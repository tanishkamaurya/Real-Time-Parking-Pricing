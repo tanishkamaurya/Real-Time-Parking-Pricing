{
  "nbformat": 4,
  "nbformat_minor": 0,
  "metadata": {
    "colab": {
      "provenance": [],
      "authorship_tag": "ABX9TyM5NUgXJVVu0zHbMntHfiVu",
      "include_colab_link": true
    },
    "kernelspec": {
      "name": "python3",
      "display_name": "Python 3"
    },
    "language_info": {
      "name": "python"
    }
  },
  "cells": [
    {
      "cell_type": "markdown",
      "metadata": {
        "id": "view-in-github",
        "colab_type": "text"
      },
      "source": [
        "<a href=\"https://colab.research.google.com/github/tanishkamaurya/Real-Time-Parking-Pricing/blob/main/Capstone_final.ipynb\" target=\"_parent\"><img src=\"https://colab.research.google.com/assets/colab-badge.svg\" alt=\"Open In Colab\"/></a>"
      ]
    },
    {
      "cell_type": "code",
      "execution_count": null,
      "metadata": {
        "id": "xU_bbfHmrGQ-"
      },
      "outputs": [],
      "source": [
        "!pip install pathway bokeh panel --quiet\n"
      ]
    },
    {
      "cell_type": "code",
      "metadata": {
        "id": "5f68d163"
      },
      "source": [
        "!pip install google-cloud-bigquery --upgrade"
      ],
      "execution_count": null,
      "outputs": []
    },
    {
      "cell_type": "code",
      "metadata": {
        "id": "a4292ec7"
      },
      "source": [
        "!pip install pathway --upgrade"
      ],
      "execution_count": null,
      "outputs": []
    },
    {
      "cell_type": "code",
      "source": [
        "import numpy as np\n",
        "import pandas as pd\n",
        "import matplotlib.pyplot as plt\n",
        "import datetime\n",
        "# from datetime import datetime\n",
        "import pathway as pw\n",
        "import bokeh.plotting\n",
        "import panel as pn\n",
        "pn.extension()\n"
      ],
      "metadata": {
        "id": "EK0fLO9TsdOP"
      },
      "execution_count": null,
      "outputs": []
    },
    {
      "cell_type": "code",
      "source": [
        "from google.colab import drive\n",
        "file_id = '1RqHF3zphAFOtYZgReDJUxEFweOiVAxqP'\n",
        "url = f'https://drive.google.com/uc?id={file_id}'\n",
        "\n",
        "df = pd.read_csv(url)\n",
        "df.head()"
      ],
      "metadata": {
        "id": "yzdfFDdQssbL"
      },
      "execution_count": null,
      "outputs": []
    },
    {
      "cell_type": "code",
      "source": [
        "import math\n",
        "\n",
        "def haversine(lat1, lon1, lat2, lon2):\n",
        "    R = 6371000  # Earth radius in meters\n",
        "    phi1 = math.radians(lat1)\n",
        "    phi2 = math.radians(lat2)\n",
        "    dphi = math.radians(lat2 - lat1)\n",
        "    dlambda = math.radians(lon2 - lon1)\n",
        "    a = math.sin(dphi / 2) ** 2 + math.cos(phi1) * math.cos(phi2) * math.sin(dlambda / 2) ** 2\n",
        "    return 2 * R * math.atan2(math.sqrt(a), math.sqrt(1 - a))\n"
      ],
      "metadata": {
        "id": "HeQZGIL1sHCJ"
      },
      "execution_count": null,
      "outputs": []
    },
    {
      "cell_type": "code",
      "source": [
        "# This cell is no longer needed as the data is loaded in cell yzdfFDdQssbL\n",
        "# filename = \"dataset.csv\"\n",
        "# df = pd.read_csv(f'https://drive.google.com/file/d/1RqHF3zphAFOtYZgReDJUxEFweOiVAxqP/view?usp=drive_link')\n",
        "# df.to_csv(filename, index=False)"
      ],
      "metadata": {
        "id": "WthgB-6gIO4w"
      },
      "execution_count": null,
      "outputs": []
    },
    {
      "cell_type": "code",
      "source": [
        "df['Timestamp'] = pd.to_datetime(df['LastUpdatedDate'] + ' ' + df['LastUpdatedTime'],\n",
        "                                  format='%d-%m-%Y %H:%M:%S')\n",
        "\n",
        "df = df.sort_values('Timestamp').reset_index(drop=True)\n",
        "\n",
        "df.rename(columns={'SystemCodeNumber': 'LocationID'}, inplace=True)\n",
        "\n",
        "df[['Timestamp', 'LocationID', 'Occupancy', 'Capacity', 'QueueLength', 'TrafficConditionNearby', 'IsSpecialDay', 'VehicleType']].to_csv('parking_stream.csv', index=False)"
      ],
      "metadata": {
        "id": "UcrSW4jVse2A"
      },
      "execution_count": null,
      "outputs": []
    },
    {
      "cell_type": "code",
      "source": [
        "class ParkingSchema(pw.Schema):\n",
        "    Timestamp: str\n",
        "    LocationID: str\n",
        "    Occupancy: int\n",
        "    Capacity: int\n",
        "    QueueLength: int\n",
        "    TrafficConditionNearby: str # Changed to string based on the original dataframe\n",
        "    IsSpecialDay: int # Changed to int based on the original dataframe\n",
        "    VehicleType: str\n",
        "\n",
        "is_special_day = pw.this.IsSpecialDay * 1.0\n"
      ],
      "metadata": {
        "id": "ZSQiVJNZtFJN"
      },
      "execution_count": null,
      "outputs": []
    },
    {
      "cell_type": "code",
      "source": [
        "data = pw.demo.replay_csv(\"parking_stream.csv\", schema=ParkingSchema, input_rate=1000)\n",
        "\n",
        "fmt = \"%Y-%m-%d %H:%M:%S\"\n",
        "data_with_time = data.with_columns(\n",
        "    t = data.Timestamp.dt.strptime(fmt),\n",
        "    day = data.Timestamp.dt.strptime(fmt).dt.strftime(\"%Y-%m-%dT00:00:00\")\n",
        ")\n"
      ],
      "metadata": {
        "id": "PBw2A-g6ttlM"
      },
      "execution_count": null,
      "outputs": []
    },
    {
      "cell_type": "markdown",
      "source": [
        "MODEL 1 : BASELINE LINEAR MODEL"
      ],
      "metadata": {
        "id": "awnsHaA6GblO"
      }
    },
    {
      "cell_type": "code",
      "source": [
        "import datetime\n",
        "\n",
        "baseline_window = (\n",
        "    data_with_time.windowby(\n",
        "        pw.this.t,\n",
        "        instance=(pw.this.day, pw.this.LocationID),\n",
        "        window=pw.temporal.tumbling(datetime.timedelta(days=1)),\n",
        "        behavior=pw.temporal.exactly_once_behavior()\n",
        "    )\n",
        "    .reduce(\n",
        "        t = pw.this._pw_window_end,\n",
        "        occ_sum = pw.reducers.sum(pw.this.Occupancy),\n",
        "        occ_count = pw.reducers.count(),\n",
        "        cap = pw.reducers.max(pw.this.Capacity),\n",
        "        location = pw.reducers.any(pw.this.LocationID)\n",
        "    )\n",
        "    .with_columns(\n",
        "        occupancy_rate = (pw.this.occ_sum / pw.this.occ_count) / pw.this.cap,\n",
        "        price = 10.0 + 5.0 * ((pw.this.occ_sum / pw.this.occ_count) / pw.this.cap)\n",
        "    )\n",
        ")\n"
      ],
      "metadata": {
        "id": "BCLvJ-cJGJAO"
      },
      "execution_count": null,
      "outputs": []
    },
    {
      "cell_type": "markdown",
      "source": [
        "MODEL 2: DEMAND BASED PRICE FUNCTION"
      ],
      "metadata": {
        "id": "V1W8x7NuGhHz"
      }
    },
    {
      "cell_type": "code",
      "source": [
        "import datetime\n",
        "import pathway as pw\n",
        "\n",
        "delta_window = (\n",
        "    data_with_time.windowby(\n",
        "        pw.this.t,\n",
        "        instance=(pw.this.day, pw.this.LocationID),\n",
        "        window=pw.temporal.tumbling(datetime.timedelta(days=1)),\n",
        "        behavior=pw.temporal.exactly_once_behavior()\n",
        "    )\n",
        "    .reduce(\n",
        "        t = pw.this._pw_window_end,\n",
        "        occ_sum = pw.reducers.sum(pw.this.Occupancy),\n",
        "        occ_count = pw.reducers.count(),\n",
        "        cap = pw.reducers.max(pw.this.Capacity),\n",
        "        queue_sum = pw.reducers.sum(pw.this.QueueLength),\n",
        "        traffic_high = pw.reducers.count(pw.this.TrafficConditionNearby == \"high\"),\n",
        "        traffic_medium = pw.reducers.count(pw.this.TrafficConditionNearby == \"medium\"),\n",
        "        traffic_low = pw.reducers.count(pw.this.TrafficConditionNearby == \"low\"),\n",
        "        special_day_count = pw.reducers.sum(pw.this.IsSpecialDay),\n",
        "        vehicle_car = pw.reducers.count(pw.this.VehicleType == \"car\"),\n",
        "        vehicle_bike = pw.reducers.count(pw.this.VehicleType == \"bike\"),\n",
        "        vehicle_truck = pw.reducers.count(pw.this.VehicleType == \"truck\"),\n",
        "        location = pw.reducers.any(pw.this.LocationID),\n",
        "    )\n",
        "    # Step 1: Calculate demand_score\n",
        ".with_columns(\n",
        "    demand_score = (\n",
        "        0.4 * ((pw.this.occ_sum / pw.this.occ_count) / pw.this.cap) +\n",
        "        0.2 * (pw.this.queue_sum / pw.this.occ_count) +\n",
        "        0.2 * (\n",
        "            (1.5 * pw.this.traffic_high +\n",
        "             1.0 * pw.this.traffic_medium +\n",
        "             0.5 * pw.this.traffic_low) / pw.this.occ_count\n",
        "        ) +\n",
        "        0.1 * (pw.this.special_day_count / pw.this.occ_count) +\n",
        "        0.1 * (\n",
        "            (1.0 * pw.this.vehicle_car +\n",
        "             0.5 * pw.this.vehicle_bike +\n",
        "             1.5 * pw.this.vehicle_truck) / pw.this.occ_count\n",
        "        )\n",
        "    )\n",
        ")\n",
        "\n",
        "# Step 2: Normalize demand_score\n",
        "    .with_columns(\n",
        "    normalized_demand = pw.if_else(\n",
        "        (pw.this.demand_score / 5.0) < 0.0, 0.0,\n",
        "        pw.if_else(\n",
        "            (pw.this.demand_score / 5.0) > 1.0, 1.0,\n",
        "            pw.this.demand_score / 5.0\n",
        "        )\n",
        "    )\n",
        ")\n",
        "\n",
        "\n",
        "# Step 3: Compute final price\n",
        ".with_columns(\n",
        "    price = 10.0 + 10.0 * pw.this.normalized_demand\n",
        "))\n"
      ],
      "metadata": {
        "id": "sgj6PxA52yjr"
      },
      "execution_count": null,
      "outputs": []
    },
    {
      "cell_type": "code",
      "source": [
        "df[['Timestamp', 'LocationID', 'Occupancy', 'Capacity',\n",
        "    'QueueLength', 'TrafficConditionNearby', 'IsSpecialDay', 'VehicleType']].to_csv('parking_stream.csv', index=False)\n"
      ],
      "metadata": {
        "id": "u2t5df9Utycg"
      },
      "execution_count": null,
      "outputs": []
    },
    {
      "cell_type": "code",
      "source": [
        "def price_plotter(source):\n",
        "    fig = bokeh.plotting.figure(\n",
        "        height=400,\n",
        "        width=800,\n",
        "        title=\"Pathway: Daily Parking Price\",\n",
        "        x_axis_type=\"datetime\",\n",
        "    )\n",
        "    fig.line(\"t\", \"price\", source=source, line_width=2, color=\"navy\")\n",
        "    fig.circle(\"t\", \"price\", source=source, size=6, color=\"red\")\n",
        "    return fig\n"
      ],
      "metadata": {
        "id": "YrgiGO6my__9"
      },
      "execution_count": null,
      "outputs": []
    },
    {
      "cell_type": "code",
      "source": [
        "viz = delta_window.plot(price_plotter, sorting_col=\"t\")\n",
        "pn.Column(viz).servable()\n"
      ],
      "metadata": {
        "id": "EjVbkDeoMeRB"
      },
      "execution_count": null,
      "outputs": []
    },
    {
      "cell_type": "code",
      "source": [
        "%%capture --no-display\n",
        "pw.run()\n"
      ],
      "metadata": {
        "id": "aH0OawScMesj"
      },
      "execution_count": null,
      "outputs": []
    },
    {
      "cell_type": "code",
      "source": [
        "delta_window.schema.columns()"
      ],
      "metadata": {
        "id": "oawdrkm3Mj7d"
      },
      "execution_count": null,
      "outputs": []
    },
    {
      "cell_type": "code",
      "source": [
        "df = df.rename(columns={\"LocationID\": \"SystemCodeNumber\"})\n",
        "\n",
        "# Step 1: Clean and save\n",
        "df.columns = df.columns.str.strip().str.replace(\"'\", \"\")\n",
        "df.to_csv(\"lot_info.csv\", index=False)\n",
        "\n",
        "class LotSchema(pw.Schema):\n",
        "    SystemCodeNumber: str\n",
        "    Latitude: float\n",
        "    Longitude: float\n",
        "\n",
        "lot_info = pw.io.csv.read(\"lot_info.csv\", schema=LotSchema)\n",
        "# lot_info = pw.io.python.read(\n",
        "#     df[[\"SystemCodeNumber\", \"Latitude\", \"Longitude\"]].to_dict(orient=\"records\"),\n",
        "#     schema=LotSchema\n",
        "\n"
      ],
      "metadata": {
        "id": "st0rNxbxNjlT"
      },
      "execution_count": null,
      "outputs": []
    },
    {
      "cell_type": "code",
      "source": [
        "print(df.columns.tolist())\n"
      ],
      "metadata": {
        "id": "aPzF_F8HHR_m"
      },
      "execution_count": null,
      "outputs": []
    },
    {
      "cell_type": "code",
      "source": [
        "# Step 1: Create lot_a and lot_b for self-join\n",
        "lot_a = lot_info.select(\n",
        "    SystemCodeA = pw.this.SystemCodeNumber,\n",
        "    LatA = pw.this.Latitude,\n",
        "    LonA = pw.this.Longitude\n",
        ")\n",
        "\n",
        "lot_b = lot_info.select(\n",
        "    SystemCodeB = pw.this.SystemCodeNumber,\n",
        "    LatB = pw.this.Latitude,\n",
        "    LonB = pw.this.Longitude\n",
        ")\n",
        "\n",
        "# Perform join\n",
        "lot_pairs = pw.join(lot_a, lot_b).filter(\n",
        "    pw.left.SystemCodeA != pw.right.SystemCodeB\n",
        ")\n"
      ],
      "metadata": {
        "id": "MiWx9TtksMW3"
      },
      "execution_count": null,
      "outputs": []
    },
    {
      "cell_type": "code",
      "source": [
        "lot_pairs_flat = lot_pairs.select(\n",
        "    SystemCodeA = pw.left.SystemCodeA,\n",
        "    LatA = pw.left.LatA,\n",
        "    LonA = pw.left.LonA,\n",
        "    SystemCodeB = pw.right.SystemCodeB,\n",
        "    LatB = pw.right.LatB,\n",
        "    LonB = pw.right.LonB\n",
        ")"
      ],
      "metadata": {
        "id": "RiU_1Ap9M8I8"
      },
      "execution_count": null,
      "outputs": []
    },
    {
      "cell_type": "code",
      "source": [
        "df[\"distance\"] = df.apply(lambda row: haversine(row[\"LatA\"], row[\"LonA\"], row[\"LatB\"], row[\"LonB\"]), axis=1)\n"
      ],
      "metadata": {
        "id": "F_1NOl9ltDbp"
      },
      "execution_count": null,
      "outputs": []
    },
    {
      "cell_type": "code",
      "source": [],
      "metadata": {
        "id": "9AFTat5yto5R"
      },
      "execution_count": null,
      "outputs": []
    }
  ]
}